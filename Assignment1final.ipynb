{
 "cells": [
  {
   "cell_type": "markdown",
   "id": "600dfd3e-1de2-4192-b4d2-e88d5e059238",
   "metadata": {},
   "source": [
    "### Task-1\n",
    "Suppose you have a list [0.152264, 6.315308, 12.583487, 18.643744, 24.762218, 30.928, 37.19, 43.169695, 49.266612,\n",
    "55.565, 61.934, 68.001842, 74.247843, 80.468893, 86.821, 93.052]. Generate 12 equal points in between each item in the list and\n",
    "save them in a .txt file. Make a python program with and without using “linspace” built-in function.\n"
   ]
  },
  {
   "cell_type": "code",
   "execution_count": 94,
   "id": "8da7551d-f18c-4399-88c9-ae48d71f867f",
   "metadata": {},
   "outputs": [],
   "source": [
    "import numpy as np"
   ]
  },
  {
   "cell_type": "code",
   "execution_count": 95,
   "id": "589b4ccd-08cf-4e8e-9eb2-fb0df3bb01fb",
   "metadata": {},
   "outputs": [],
   "source": [
    "list1 = [0.152264, 6.315308, 12.583487, 18.643744, 24.762218, 30.928, 37.19, 43.169695, 49.266612, \n",
    "         55.565, 61.934, 68.001842, 74.247843, 80.468893, 86.821, 93.052]"
   ]
  },
  {
   "cell_type": "code",
   "execution_count": 96,
   "id": "7f3c37d5-707b-427b-a038-463708be225c",
   "metadata": {},
   "outputs": [],
   "source": [
    "# Using linspace \n",
    "f = open('task1a.txt', 'w')\n",
    "\n",
    "listOflist = np.random.randn(15, 12)\n",
    "for i in range(len(list1) - 1):\n",
    "    ll = list1[i]\n",
    "    ul = list1[i+1]\n",
    "    \n",
    "    lineList = list(np.linspace(ll, ul, num=12))\n",
    "    listToString = [str(x) + ' ' for x in lineList]\n",
    "    listToString.append('\\n')\n",
    "    \n",
    "    f.writelines(listToString)\n",
    "f.close()"
   ]
  },
  {
   "cell_type": "code",
   "execution_count": 97,
   "id": "6a0623fb-daaf-4475-b918-ffb0234b12a6",
   "metadata": {},
   "outputs": [],
   "source": [
    "# without using linspace\n",
    "f = open('task1b.txt', 'w')\n",
    "\n",
    "listOflist = np.random.randn(15, 12)\n",
    "for i in range(len(list1) - 1):\n",
    "    ll = list1[i]\n",
    "    ul = list1[i+1]\n",
    "    \n",
    "    lineList = list(np.arange(ll, ul, step=(ul-ll)/12))\n",
    "    listToString = [str(x) + ' ' for x in lineList]\n",
    "    listToString.append('\\n')\n",
    "    \n",
    "    f.writelines(listToString)\n",
    "f.close()"
   ]
  },
  {
   "cell_type": "markdown",
   "id": "76b51a27-6928-4e7e-ba18-12c7772ad794",
   "metadata": {},
   "source": [
    "### Task-2\n",
    "Make a python program to move one or all files from one directory to other.\n"
   ]
  },
  {
   "cell_type": "code",
   "execution_count": 34,
   "id": "06c2e688-0b26-4f0b-88bb-ac39e89adaa3",
   "metadata": {},
   "outputs": [],
   "source": [
    "import os\n",
    "import shutil\n",
    "\n",
    "os.chdir('./dir1')\n",
    "for file in os.listdir('./'):\n",
    "    \"\"\"\n",
    "        Move all files from dir1 to dir2\n",
    "    \"\"\"\n",
    "    if os.path.isfile(file):\n",
    "        shutil.move(file, '../dir2/')\n",
    "os.chdir('./..')"
   ]
  },
  {
   "cell_type": "markdown",
   "id": "fb954055-b354-467c-a66d-7689ad425033",
   "metadata": {},
   "source": [
    "### Task-3 \n",
    "Make a python program that can rename the file in directory by removing spaces, adding strings on existing file\n",
    "name.\n"
   ]
  },
  {
   "cell_type": "code",
   "execution_count": 56,
   "id": "4a0bf021-62fe-49b1-960a-8ad18c1c2148",
   "metadata": {
    "collapsed": true,
    "jupyter": {
     "outputs_hidden": true
    },
    "tags": []
   },
   "outputs": [
    {
     "name": "stdout",
     "output_type": "stream",
     "text": [
      "file1.txt  --->  file1.txt\n",
      "somefile.txt  --->  somefile.txt\n",
      "Adam Smith.txt  --->  AdamSmith.txt\n",
      "Hotel california  by- Me.txt  --->  Hotelcaliforniaby-Me.txt\n",
      "Code Jam-1st Round.doc  --->  CodeJam-1stRound.doc\n",
      "som  efile.gz  --->  somefile.gz\n"
     ]
    }
   ],
   "source": [
    "# This program renames the filename in './dir3' by removing the spaces between the file names.\n",
    "import os\n",
    "list1 = []\n",
    "for file in os.listdir('./dir3/'):\n",
    "    if file != '.ipynb_checkpoints':\n",
    "        print(file, end = '  --->  ') #before removing spaces\n",
    "        filename = ''\n",
    "        for text in file.split(' '): \n",
    "            filename += text\n",
    "        print(filename) # after removing spaces\\\n",
    "        os.rename(f'./dir3/{file}', f'./dir3/{filename}')"
   ]
  },
  {
   "cell_type": "markdown",
   "id": "20a5504e-99df-4372-b029-0d66c9a5e22a",
   "metadata": {},
   "source": [
    "### Task 4\n",
    "\n",
    "Write a program to convert large number of .txt file into .csv file in a directory."
   ]
  },
  {
   "cell_type": "code",
   "execution_count": 76,
   "id": "ddfffc15-6544-4997-8f34-1191590e6312",
   "metadata": {},
   "outputs": [],
   "source": [
    "# Program to convert all .txt files to .csv present in dir4\n",
    "\n",
    "import os\n",
    "import csv\n",
    "\n",
    "source_path = './dir4/'\n",
    "dest_file = './dir4/'\n",
    "file_list = []\n",
    "for name in os.listdir(source_path):\n",
    "    if name != '.ipynb_checkpoints':\n",
    "        file_list.append(name)\n",
    "        \n",
    "for i in range(len(file_list) - 1):\n",
    "    fname = file_list[i]\n",
    "    with open(source_path + fname, 'r') as f:\n",
    "        stripped = (line.strip() for line in f)\n",
    "        lines = (line.split(\",\") for line in stripped)\n",
    "        with open(dest_file + fname.split('.')[0] + 'v2' + '.csv', 'w') as f1:\n",
    "            writer = csv.writer(f1)\n",
    "            writer.writerows(lines)"
   ]
  },
  {
   "cell_type": "markdown",
   "id": "ca132759-18fe-4b31-b009-268e7025e2f5",
   "metadata": {},
   "source": [
    "### Task-5 \n",
    "Write a program to separate one .csv file into multiple files based on a similar column value/string.\n"
   ]
  },
  {
   "cell_type": "code",
   "execution_count": 79,
   "id": "256c426e-5dea-4791-82b3-570b459c3427",
   "metadata": {},
   "outputs": [
    {
     "data": {
      "text/html": [
       "<div>\n",
       "<style scoped>\n",
       "    .dataframe tbody tr th:only-of-type {\n",
       "        vertical-align: middle;\n",
       "    }\n",
       "\n",
       "    .dataframe tbody tr th {\n",
       "        vertical-align: top;\n",
       "    }\n",
       "\n",
       "    .dataframe thead th {\n",
       "        text-align: right;\n",
       "    }\n",
       "</style>\n",
       "<table border=\"1\" class=\"dataframe\">\n",
       "  <thead>\n",
       "    <tr style=\"text-align: right;\">\n",
       "      <th></th>\n",
       "      <th>Audiofilename</th>\n",
       "      <th>Starttime</th>\n",
       "      <th>Endtime</th>\n",
       "      <th>Aniri</th>\n",
       "      <th>AniriChangzo</th>\n",
       "      <th>Dockseoseong</th>\n",
       "      <th>Eonmori</th>\n",
       "      <th>Eotjungmori</th>\n",
       "      <th>Hwinori</th>\n",
       "      <th>Jajinmori</th>\n",
       "      <th>Jinyangjo</th>\n",
       "      <th>Jungjungmori</th>\n",
       "      <th>Jungmori</th>\n",
       "      <th>Semachi</th>\n",
       "      <th>Sichang</th>\n",
       "    </tr>\n",
       "  </thead>\n",
       "  <tbody>\n",
       "    <tr>\n",
       "      <th>0</th>\n",
       "      <td>ChanWanMinBaDi_SamChangGa2.wav</td>\n",
       "      <td>0</td>\n",
       "      <td>11</td>\n",
       "      <td>POS</td>\n",
       "      <td>NEG</td>\n",
       "      <td>NEG</td>\n",
       "      <td>NEG</td>\n",
       "      <td>NEG</td>\n",
       "      <td>NEG</td>\n",
       "      <td>NEG</td>\n",
       "      <td>NEG</td>\n",
       "      <td>NEG</td>\n",
       "      <td>NEG</td>\n",
       "      <td>NEG</td>\n",
       "      <td>NEG</td>\n",
       "    </tr>\n",
       "    <tr>\n",
       "      <th>1</th>\n",
       "      <td>ChanWanMinBaDi_SamChangGa2.wav</td>\n",
       "      <td>12</td>\n",
       "      <td>45</td>\n",
       "      <td>NEG</td>\n",
       "      <td>POS</td>\n",
       "      <td>NEG</td>\n",
       "      <td>NEG</td>\n",
       "      <td>NEG</td>\n",
       "      <td>NEG</td>\n",
       "      <td>NEG</td>\n",
       "      <td>NEG</td>\n",
       "      <td>NEG</td>\n",
       "      <td>NEG</td>\n",
       "      <td>NEG</td>\n",
       "      <td>NEG</td>\n",
       "    </tr>\n",
       "    <tr>\n",
       "      <th>2</th>\n",
       "      <td>ChanWanMinBaDi_SamChangGa2.wav</td>\n",
       "      <td>46</td>\n",
       "      <td>52</td>\n",
       "      <td>POS</td>\n",
       "      <td>NEG</td>\n",
       "      <td>NEG</td>\n",
       "      <td>NEG</td>\n",
       "      <td>NEG</td>\n",
       "      <td>NEG</td>\n",
       "      <td>NEG</td>\n",
       "      <td>NEG</td>\n",
       "      <td>NEG</td>\n",
       "      <td>NEG</td>\n",
       "      <td>NEG</td>\n",
       "      <td>NEG</td>\n",
       "    </tr>\n",
       "    <tr>\n",
       "      <th>3</th>\n",
       "      <td>ChanWanMinBaDi_SamChangGa2.wav</td>\n",
       "      <td>53</td>\n",
       "      <td>67</td>\n",
       "      <td>NEG</td>\n",
       "      <td>POS</td>\n",
       "      <td>NEG</td>\n",
       "      <td>NEG</td>\n",
       "      <td>NEG</td>\n",
       "      <td>NEG</td>\n",
       "      <td>NEG</td>\n",
       "      <td>NEG</td>\n",
       "      <td>NEG</td>\n",
       "      <td>NEG</td>\n",
       "      <td>NEG</td>\n",
       "      <td>NEG</td>\n",
       "    </tr>\n",
       "    <tr>\n",
       "      <th>4</th>\n",
       "      <td>ChanWanMinBaDi_SamChangGa2.wav</td>\n",
       "      <td>68</td>\n",
       "      <td>77</td>\n",
       "      <td>POS</td>\n",
       "      <td>NEG</td>\n",
       "      <td>NEG</td>\n",
       "      <td>NEG</td>\n",
       "      <td>NEG</td>\n",
       "      <td>NEG</td>\n",
       "      <td>NEG</td>\n",
       "      <td>NEG</td>\n",
       "      <td>NEG</td>\n",
       "      <td>NEG</td>\n",
       "      <td>NEG</td>\n",
       "      <td>NEG</td>\n",
       "    </tr>\n",
       "  </tbody>\n",
       "</table>\n",
       "</div>"
      ],
      "text/plain": [
       "                    Audiofilename  Starttime  Endtime Aniri AniriChangzo  \\\n",
       "0  ChanWanMinBaDi_SamChangGa2.wav          0       11   POS          NEG   \n",
       "1  ChanWanMinBaDi_SamChangGa2.wav         12       45   NEG          POS   \n",
       "2  ChanWanMinBaDi_SamChangGa2.wav         46       52   POS          NEG   \n",
       "3  ChanWanMinBaDi_SamChangGa2.wav         53       67   NEG          POS   \n",
       "4  ChanWanMinBaDi_SamChangGa2.wav         68       77   POS          NEG   \n",
       "\n",
       "  Dockseoseong Eonmori Eotjungmori Hwinori Jajinmori Jinyangjo Jungjungmori  \\\n",
       "0          NEG     NEG         NEG     NEG       NEG       NEG          NEG   \n",
       "1          NEG     NEG         NEG     NEG       NEG       NEG          NEG   \n",
       "2          NEG     NEG         NEG     NEG       NEG       NEG          NEG   \n",
       "3          NEG     NEG         NEG     NEG       NEG       NEG          NEG   \n",
       "4          NEG     NEG         NEG     NEG       NEG       NEG          NEG   \n",
       "\n",
       "  Jungmori Semachi Sichang  \n",
       "0      NEG     NEG     NEG  \n",
       "1      NEG     NEG     NEG  \n",
       "2      NEG     NEG     NEG  \n",
       "3      NEG     NEG     NEG  \n",
       "4      NEG     NEG     NEG  "
      ]
     },
     "execution_count": 79,
     "metadata": {},
     "output_type": "execute_result"
    }
   ],
   "source": [
    "import pandas as pd\n",
    "\n",
    "df = pd.read_csv('./sample_tree.csv')\n",
    "df.head()"
   ]
  },
  {
   "cell_type": "code",
   "execution_count": 83,
   "id": "a383ee12-57cc-4cb4-bdea-b5c939e5aad6",
   "metadata": {},
   "outputs": [
    {
     "data": {
      "text/plain": [
       "<pandas.core.groupby.generic.DataFrameGroupBy object at 0x7f068c306070>"
      ]
     },
     "execution_count": 83,
     "metadata": {},
     "output_type": "execute_result"
    }
   ],
   "source": [
    "sp = df.groupby('Aniri') # grouping using Aniri column \n",
    "sp"
   ]
  },
  {
   "cell_type": "code",
   "execution_count": 93,
   "id": "6a495151-9cbb-4f85-88ad-0504e83523ad",
   "metadata": {},
   "outputs": [],
   "source": [
    "for aniri, aniri_df in sp: # spliting into csv files.\n",
    "    aniri_df.to_csv(aniri + '.csv', index=False)"
   ]
  },
  {
   "cell_type": "code",
   "execution_count": null,
   "id": "c2a05893-3d7a-4f1f-818b-3e99e394ec18",
   "metadata": {},
   "outputs": [],
   "source": []
  }
 ],
 "metadata": {
  "kernelspec": {
   "display_name": "Python 3 (ipykernel)",
   "language": "python",
   "name": "python3"
  },
  "language_info": {
   "codemirror_mode": {
    "name": "ipython",
    "version": 3
   },
   "file_extension": ".py",
   "mimetype": "text/x-python",
   "name": "python",
   "nbconvert_exporter": "python",
   "pygments_lexer": "ipython3",
   "version": "3.9.7"
  }
 },
 "nbformat": 4,
 "nbformat_minor": 5
}
